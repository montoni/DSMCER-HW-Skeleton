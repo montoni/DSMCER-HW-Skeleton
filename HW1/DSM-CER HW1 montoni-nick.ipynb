{
 "cells": [
  {
   "cell_type": "markdown",
   "metadata": {},
   "source": [
    "### HW Assignment 1 for DSM-CER\n",
    "\n",
    "* Due date, submitted to your GitHub account by Thur Jan 12, 2017 at 5 pm PST \n",
    "* Overview: This HW assignment is primarily designed to introduce you to some aspects of Data Science and clean energy research.  A secondary goal of the HW assignment is to get practice with git, GitHub classroom and related tools you will be using in Professor Beck's class. \n",
    "* Instructions: \n",
    "    * Check out this python notebook (DSM-CER HW1 skel) from GitHub classroom (if you are reading this, you probably did it). If you had a friend give you the python notebook, stop now and figure out how to get the correct starter code from GitHub classroom.\n",
    "        * Rename the notebook as: \"DSM-CER HW1 _lastname_-_firstname_\"\n",
    "    * Do the assigned reading for DSM-CER (The Data Science review article by Beck et al.).  If you have any lingering questions, enter them in the appropriate cell below, in markdown format and colored in <font color='red'>_red text_</font>\n",
    "    * Find a research paper related to your own research area, or a research area of interest that is at the intersection of materials/chemicals science/engineering and Data Science. In the appropriate cell below, add the correct <a href=\"http://google.com\" target=\"_blank\">link to the paper</a> so that we can find it. \n",
    "        * If you cannot find a paper you want to read you can look for papers related to Materials Genome Initative, The Materials Project, Harvard Clean Energy Project, The Open Quantum Materials Database, or references from Part 1.  \n",
    "            * _If you still can't find a paper, talk to us on Slack or come to office hours_\n",
    "                * **_If you still can't find a paper, I am out of suggestions_**\n",
    "    * Write a brief (200 words or fewer) summary of the paper, making sure to note the methods that were used as well as how the authors addressed one or more data-related challenges \n",
    "    * Turn in the completed python notebook using GitHub classroom"
   ]
  },
  {
   "cell_type": "markdown",
   "metadata": {},
   "source": [
    "### Part 1 \n",
    "\n",
    "In the second paragraph, you mention that part of the problem is the sheer size of data sets. Then you give some examples of large data sets. What are some other reasons why data manipulation is much harder than it used to be? Something we mentioned in class was that many industrial processes have sensors that unload continuous streams of data, and not all of it can be captured. What are possible solutions to that problem?\n",
    "\n",
    "The disussion of high-performance computing lost me, mostly because of the structure of this sentence: \"There has been a realization that a class of computational problems do not require tight coupling between computers working on the same problem and can make use a collection of loosely coupled, relatively inexpensive computers with standard network connectivity.\" What class of computations is that? What kinds of computationsactually do need a system of tightly coupled computers? What's the difference?\n",
    "\n",
    "The section on machine learning is excellent. I always thought machine learning was a useless buzzword, but now I actually know what it means. I'm sure there are many scientists (and non-scientists!!) who feel the same, so what steps can we take to de-jargon or de-stigmatize the language we use?\n",
    "\n",
    "Is dimensionality reduction the only visualization technique for complex data? What else is there? I imagine for a problem cosisting of time-dependent or continuous data, a real-time visualization method is ideal. What are some other options?\n"
   ]
  },
  {
   "cell_type": "markdown",
   "metadata": {},
   "source": [
    "### Part 2 \n",
    "\n",
    "Here is a [link](iopscience.iop.org/article/10.1088/0957-4484/24/45/452002/meta) to the paper."
   ]
  },
  {
   "cell_type": "markdown",
   "metadata": {},
   "source": [
    "### Part 3 \n",
    "\n",
    "This paper discusses the use of neural networks and machine learning in determining the properties of nanoscale materials. More significantly, it points out the interesting relationship between machine learning and nanomaterials: that improving the design of such materials will in turn improve computational methods used to characterize these materials in the first place.\n",
    "\n",
    "The sections on material properties and simulation of nanomaterials are especially significant to my research, as I am interested in the optical properties of metal nanoparticles, specifically the ability of catalytic/plasmonic metal composite particles to absorb light. The algorithms this paper discusses are already partially implemented in some of my research techniques, such as the least-squares minimization. I would be interested to further implement machine learning to find the proper balance between resolution and physical meaning/reality, as simulations can sometimes be thought of as \"infinite resolution\" experiments. The paper goes on to discuss how the ANN learns to characterize a material and how to prevent overtraining.\n",
    "\n",
    "The final sections discuss the use of nanomaterials in computing. The important point to take away is that by improving computational and data science methods, nanomaterials will be better understood and be put to better use in computers. This cycle will continue to produce new computational methods and new materials for medical, energy, and computational technology."
   ]
  },
  {
   "cell_type": "code",
   "execution_count": null,
   "metadata": {
    "collapsed": true
   },
   "outputs": [],
   "source": []
  }
 ],
 "metadata": {
  "anaconda-cloud": {},
  "celltoolbar": "Raw Cell Format",
  "kernelspec": {
   "display_name": "Python [default]",
   "language": "python",
   "name": "python2"
  },
  "language_info": {
   "codemirror_mode": {
    "name": "ipython",
    "version": 2
   },
   "file_extension": ".py",
   "mimetype": "text/x-python",
   "name": "python",
   "nbconvert_exporter": "python",
   "pygments_lexer": "ipython2",
   "version": "2.7.12"
  }
 },
 "nbformat": 4,
 "nbformat_minor": 1
}
